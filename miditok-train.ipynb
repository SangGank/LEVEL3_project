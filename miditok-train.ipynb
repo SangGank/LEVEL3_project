{
  "cells": [
    {
      "cell_type": "markdown",
      "metadata": {},
      "source": [
        "# MIDITok - Tokenizing, Training (+Generating!)"
      ]
    },
    {
      "cell_type": "markdown",
      "metadata": {
        "id": "NPmkrdB1s18k"
      },
      "source": [
        "## 1. Install & Import necessary libraries"
      ]
    },
    {
      "cell_type": "code",
      "execution_count": null,
      "metadata": {
        "id": "yPGNyAscsvzD"
      },
      "outputs": [],
      "source": [
        "!pip install datasets transformers\n",
        "!pip install miditok\n",
        "!pip install symusic"
      ]
    },
    {
      "cell_type": "code",
      "execution_count": null,
      "metadata": {},
      "outputs": [],
      "source": [
        "from miditok import MMM, MuMIDI, TokenizerConfig\n",
        "from miditok.pytorch_data import DatasetTok, DataCollator\n",
        "from pathlib import Path\n",
        "from symusic import Score"
      ]
    },
    {
      "cell_type": "markdown",
      "metadata": {},
      "source": [
        "## 2. Tokenizing"
      ]
    },
    {
      "cell_type": "markdown",
      "metadata": {},
      "source": [
        "MidiTok 에서 제공하는 tokenizer 클래스로 tokenizer 생성"
      ]
    },
    {
      "cell_type": "code",
      "execution_count": null,
      "metadata": {},
      "outputs": [],
      "source": [
        "# Creating a multitrack tokenizer configuration, read the doc to explore other parameters\n",
        "\n",
        "config = TokenizerConfig(\n",
        "    num_velocities=16, \n",
        "    use_chords=True, \n",
        "    use_programs=True,\n",
        "    use_pitch_intervals=True\n",
        "    )\n",
        "\n",
        "TOKENIZER_NAME = MMM # MMM 토크나이저 사용\n",
        "# TOKENIZER_NAME = MuMIDI # MuMIDI 토크나이저 사용\n",
        "tokenizer = TOKENIZER_NAME(config)"
      ]
    },
    {
      "cell_type": "markdown",
      "metadata": {},
      "source": [
        "미디 파일 하나를 시험삼아 토크나이징 해봅니다"
      ]
    },
    {
      "cell_type": "code",
      "execution_count": null,
      "metadata": {},
      "outputs": [],
      "source": [
        "# Loads a midi, converts to tokens, and back to a MIDI\n",
        "\n",
        "midi = Score(\"./jazz-chunked/003_20thcenturystomp_cleaned/1.mid\")\n",
        "tokens = tokenizer(midi)  # calling the tokenizer will automatically detect MIDIs, paths and tokens\n",
        "converted_back_midi = tokenizer(tokens)  # PyTorch / Tensorflow / Numpy tensors supported"
      ]
    },
    {
      "cell_type": "markdown",
      "metadata": {},
      "source": [
        "토크나이징 결과 확인"
      ]
    },
    {
      "cell_type": "code",
      "execution_count": null,
      "metadata": {},
      "outputs": [],
      "source": [
        "# len(tokens)\n",
        "tokens"
      ]
    },
    {
      "cell_type": "markdown",
      "metadata": {},
      "source": [
        "토큰에서 다시 생성된 미디 파일 정보 확인"
      ]
    },
    {
      "cell_type": "code",
      "execution_count": null,
      "metadata": {},
      "outputs": [],
      "source": [
        "converted_back_midi"
      ]
    },
    {
      "cell_type": "markdown",
      "metadata": {},
      "source": [
        "학습할 미디 파일들의 경로 지정"
      ]
    },
    {
      "cell_type": "code",
      "execution_count": null,
      "metadata": {},
      "outputs": [],
      "source": [
        "midi_paths = list(Path(\"jazz-chunked\").glob(\"**/*.mid\"))\n",
        "len(midi_paths)"
      ]
    },
    {
      "cell_type": "markdown",
      "metadata": {},
      "source": [
        "(Optional) BPE Tokenizer 학습시키려면 아래 셀 주석 해제 (단, 생성 결과물 별로 좋지 못하고 생성시 컨트롤이 힘들 것으로 추정됨)"
      ]
    },
    {
      "cell_type": "code",
      "execution_count": null,
      "metadata": {},
      "outputs": [],
      "source": [
        "# tokenizer.learn_bpe(vocab_size=10000, files_paths=midi_paths) # 원하는 vocab_size 자유롭게 지정\n",
        "# tokenizer.save_params(Path(\"tokenizer/tokenizer.json\")) # 학습한 BPE 토크나이저를 json 형태로 저장\n",
        "\n",
        "# Load the BPE-trained tokenizer\n",
        "# tokenizer = MMM(params=Path('tokenizer/tokenizer.json')) # 기 학습된 토크나이저를 경로에서 불러올 수 있음"
      ]
    },
    {
      "cell_type": "markdown",
      "metadata": {},
      "source": [
        "## 3. Train / Validation Dataset 구축"
      ]
    },
    {
      "cell_type": "markdown",
      "metadata": {},
      "source": [
        "train / valid 데이터셋 split 및 shuffle"
      ]
    },
    {
      "cell_type": "code",
      "execution_count": null,
      "metadata": {},
      "outputs": [],
      "source": [
        "# Split MIDI paths in train/valid/test sets\n",
        "\n",
        "from random import shuffle\n",
        "\n",
        "total_num_files = len(midi_paths)\n",
        "num_files_valid = round(total_num_files * 0.1) # Validation 비율 자유롭게 변경\n",
        "shuffle(midi_paths)\n",
        "midi_paths_valid = midi_paths[:num_files_valid]\n",
        "midi_paths_train = midi_paths[num_files_valid:]"
      ]
    },
    {
      "cell_type": "markdown",
      "metadata": {},
      "source": [
        "##### ⏰ 데이터를 MidiTok Dataset 형태로 처리 (V100 서버 기준 재즈 데이터에 약 1분 소요)"
      ]
    },
    {
      "cell_type": "code",
      "execution_count": null,
      "metadata": {},
      "outputs": [],
      "source": [
        "# Creates a Dataset and a collator to be used with a PyTorch DataLoader to train a model\n",
        "dataset_train = DatasetTok(\n",
        "    files_paths=midi_paths_train,\n",
        "    min_seq_len=50,\n",
        "    max_seq_len=1022,\n",
        "    tokenizer=tokenizer,\n",
        ")\n",
        "dataset_valid = DatasetTok(\n",
        "    files_paths=midi_paths_valid,\n",
        "    min_seq_len=50,\n",
        "    max_seq_len=1022,\n",
        "    tokenizer=tokenizer,\n",
        ")\n",
        "collator = DataCollator(\n",
        "    tokenizer[\"PAD_None\"], tokenizer[\"BOS_None\"], tokenizer[\"EOS_None\"], copy_inputs_as_labels=True\n",
        ")"
      ]
    },
    {
      "cell_type": "markdown",
      "metadata": {},
      "source": [
        "## 4. HuggingFace와 호환 가능한 형태로 데이터셋 변경\n",
        "❓ HuggingFace Trainer로 train 시키기 위해 아래 과정을 수행합니다.<br>\n",
        "❗️ 아래 셀들이 조금 필요없는 작업일 수 있는데, 일단 구현을 우선으로 작성 해놓았습니다. 혹시 불필요한 과정 발견하시면 제보 부탁드립니다!"
      ]
    },
    {
      "cell_type": "code",
      "execution_count": null,
      "metadata": {},
      "outputs": [],
      "source": [
        "from torch.utils.data import DataLoader\n",
        "\n",
        "data_loader_train = DataLoader(dataset=dataset_train, collate_fn=collator)\n",
        "data_loader_valid = DataLoader(dataset=dataset_valid, collate_fn=collator)\n",
        "train_tokenized_songs = []\n",
        "valid_tokenized_songs = []\n",
        "for batch in data_loader_train:\n",
        "    train_tokenized_songs.append(batch)\n",
        "for batch in data_loader_valid:\n",
        "    valid_tokenized_songs.append(batch)"
      ]
    },
    {
      "cell_type": "code",
      "execution_count": null,
      "metadata": {},
      "outputs": [],
      "source": [
        "# valid_tokenized_songs[0]"
      ]
    },
    {
      "cell_type": "code",
      "execution_count": null,
      "metadata": {},
      "outputs": [],
      "source": [
        "# make custom dataset\n",
        "import torch\n",
        "from torch.utils.data import Dataset, DataLoader\n",
        "\n",
        "class MidiDataset(Dataset):\n",
        "    def __init__(self, tokenized_songs, max_length=510):  # max_length를 512로 하면 앞, 뒤에 BOS, EOS 토큰이 또 붙어서 길이 514 되고 에러가 나서 일단 510로 함. 디버깅 필요!!\n",
        "        self.tokenized_songs = tokenized_songs\n",
        "        self.max_length = max_length\n",
        "    \n",
        "    def __len__(self):\n",
        "        return len(self.tokenized_songs)\n",
        "    \n",
        "    def __getitem__(self, idx):\n",
        "        # item = {key: val.clone().detach() for key, val in self.tokenized_songs[idx].items()}\n",
        "        item = {'input_ids': self.tokenized_songs[idx]['input_ids'][:, :self.max_length].clone().detach().squeeze(),}\n",
        "        return item"
      ]
    },
    {
      "cell_type": "code",
      "execution_count": null,
      "metadata": {},
      "outputs": [],
      "source": [
        "train_dataset = MidiDataset(train_tokenized_songs)\n",
        "eval_dataset = MidiDataset(valid_tokenized_songs)"
      ]
    },
    {
      "cell_type": "code",
      "execution_count": null,
      "metadata": {},
      "outputs": [],
      "source": [
        "train_dataset[0]['input_ids'].shape\n",
        "# train_dataset[0]"
      ]
    },
    {
      "cell_type": "code",
      "execution_count": null,
      "metadata": {},
      "outputs": [],
      "source": [
        "# Test our data_collator\n",
        "out = collator([train_dataset[i] for i in range(5)])\n",
        "\n",
        "for key in out:\n",
        "    print(f\"{key} shape: {out[key].shape}\")\n",
        "\n",
        "print(f\"out {out}\")"
      ]
    },
    {
      "cell_type": "markdown",
      "metadata": {},
      "source": [
        "## 4. Training"
      ]
    },
    {
      "cell_type": "markdown",
      "metadata": {},
      "source": [
        "Custom Trainer 정의"
      ]
    },
    {
      "cell_type": "code",
      "execution_count": null,
      "metadata": {
        "id": "CYdVIUZ_7xWR"
      },
      "outputs": [],
      "source": [
        "from transformers import Trainer, TrainingArguments\n",
        "\n",
        "# first create a custom trainer to log prediction distribution\n",
        "class CustomTrainer(Trainer):\n",
        "    def __init__(self, *args, **kwargs):\n",
        "        super().__init__(*args, **kwargs)\n",
        "\n",
        "    def evaluation_loop(\n",
        "        self,\n",
        "        dataloader,\n",
        "        description,\n",
        "        prediction_loss_only=None,\n",
        "        ignore_keys=None,\n",
        "        metric_key_prefix=\"eval\",\n",
        "    ):\n",
        "        # call super class method to get the eval outputs\n",
        "        eval_output = super().evaluation_loop(\n",
        "            dataloader,\n",
        "            description,\n",
        "            prediction_loss_only,\n",
        "            ignore_keys,\n",
        "            metric_key_prefix,\n",
        "        )\n",
        "\n",
        "        return eval_output"
      ]
    },
    {
      "cell_type": "markdown",
      "metadata": {},
      "source": [
        "세부 training config 정하고, GPT-2 모델 불러오기"
      ]
    },
    {
      "cell_type": "code",
      "execution_count": null,
      "metadata": {},
      "outputs": [],
      "source": [
        "from transformers import AutoConfig, GPT2LMHeadModel\n",
        "\n",
        "context_length = 1024 # context length는 자유롭게 바꿔보며 실험해봐도 좋을 듯 합니다.\n",
        "\n",
        "# Change this based on size of the data\n",
        "n_layer=6\n",
        "n_head=4\n",
        "n_emb=1024\n",
        "\n",
        "config = AutoConfig.from_pretrained(\n",
        "    \"gpt2\",\n",
        "    vocab_size=len(tokenizer),\n",
        "    n_positions=context_length,\n",
        "    n_layer=n_layer,\n",
        "    n_head=n_head,\n",
        "    pad_token_id=tokenizer[\"PAD_None\"],\n",
        "    bos_token_id=tokenizer[\"BOS_None\"],\n",
        "    eos_token_id=tokenizer[\"EOS_None\"],\n",
        "    n_embd=n_emb\n",
        ")\n",
        "\n",
        "model = GPT2LMHeadModel(config)\n",
        "model"
      ]
    },
    {
      "cell_type": "markdown",
      "metadata": {},
      "source": [
        "Training Argument 설정"
      ]
    },
    {
      "cell_type": "code",
      "execution_count": null,
      "metadata": {
        "id": "Ry-BYiGMJiq2"
      },
      "outputs": [],
      "source": [
        "# Create the args for out trainer\n",
        "from argparse import Namespace\n",
        "\n",
        "# Get the output directory with timestamp.\n",
        "output_path = \"models\"\n",
        "steps = 100\n",
        "# Commented parameters correspond to the small model\n",
        "config = {\"output_dir\": output_path,\n",
        "          \"num_train_epochs\": 30, # 학습 epoch 자유롭게 변경. 저는 30 epoch 걸어놓고 early stopping 했습니다.\n",
        "          \"per_device_train_batch_size\": 32,\n",
        "          \"per_device_eval_batch_size\": 16,\n",
        "          \"evaluation_strategy\": \"steps\",\n",
        "          \"save_strategy\": \"steps\",\n",
        "          \"eval_steps\": steps,\n",
        "          \"logging_steps\":steps,\n",
        "          \"logging_first_step\": True,\n",
        "          \"save_total_limit\": 5,\n",
        "          \"save_steps\": steps,\n",
        "          \"lr_scheduler_type\": \"cosine\",\n",
        "          \"learning_rate\":5e-4,\n",
        "          \"warmup_ratio\": 0.01,\n",
        "          \"weight_decay\": 0.01,\n",
        "          \"seed\": 1,\n",
        "          \"load_best_model_at_end\": True,\n",
        "          # \"metric_for_best_model\": \"eval_loss\" # best model 기준 바꾸고 싶을 경우 이 부분 변경 (default가 eval_loss임)\n",
        "        #   \"report_to\": \"wandb\"\n",
        "          }\n",
        "\n",
        "args = Namespace(**config)"
      ]
    },
    {
      "cell_type": "code",
      "execution_count": null,
      "metadata": {
        "id": "M07MnTwqJ34f"
      },
      "outputs": [],
      "source": [
        "from transformers import set_seed\n",
        "set_seed(args.seed)"
      ]
    },
    {
      "cell_type": "code",
      "execution_count": null,
      "metadata": {
        "id": "D9hBshTJ9coM"
      },
      "outputs": [],
      "source": [
        "from transformers import Trainer, TrainingArguments\n",
        "from transformers import EarlyStoppingCallback\n",
        "\n",
        "# mps device\n",
        "device = torch.device(\"cuda\" if torch.cuda.is_available() else \"cpu\")\n",
        "model.to(device)\n",
        "\n",
        "train_args = TrainingArguments(**config)\n",
        "\n",
        "trainer = CustomTrainer(\n",
        "    model=model,\n",
        "    tokenizer=tokenizer,\n",
        "    args=train_args,\n",
        "    data_collator=collator,\n",
        "    train_dataset=train_dataset,\n",
        "    eval_dataset=eval_dataset,\n",
        "    callbacks = [EarlyStoppingCallback(early_stopping_patience=5)] # Early Stopping patience 자유롭게 변경\n",
        ")"
      ]
    },
    {
      "cell_type": "markdown",
      "metadata": {},
      "source": [
        "#### 드디어! 학습을 시작하세요! \n",
        "- V100 서버 기준 3 epoch 약 7분 소요\n",
        "- 저는 30 epoch 정도 걸어놓고 Early Stopping 했습니다.\n",
        "- 학습 완료된 후 모델 체크포인트는 models 폴더 안에 저장됩니다."
      ]
    },
    {
      "cell_type": "code",
      "execution_count": null,
      "metadata": {
        "id": "SEgCmFiz9v6S"
      },
      "outputs": [],
      "source": [
        "# Train the model.\n",
        "trainer.train()"
      ]
    },
    {
      "cell_type": "markdown",
      "metadata": {},
      "source": [
        "## 5. GENERATE"
      ]
    },
    {
      "cell_type": "markdown",
      "metadata": {},
      "source": [
        "처음 입력할 토큰을 지정해주고, tensor로 바꾸어 generated_ids 변수에 할당합니다"
      ]
    },
    {
      "cell_type": "code",
      "execution_count": null,
      "metadata": {},
      "outputs": [],
      "source": [
        "initial_token = \"BOS_None\" # 시작 토큰을 BOS로 설정해줍니다."
      ]
    },
    {
      "cell_type": "code",
      "execution_count": null,
      "metadata": {},
      "outputs": [],
      "source": [
        "generated_ids = torch.tensor([[tokenizer[initial_token]]])\n",
        "generated_ids"
      ]
    },
    {
      "cell_type": "markdown",
      "metadata": {},
      "source": [
        "- iteration number와 현재 시간을 초기화합니다. \n",
        "- ts 변수에 저장된 시간 정보는 지금은 안 쓰이고 있는데, 파일명 등에 사용하시면 나중에 모니터링 하실 때 좋습니다."
      ]
    },
    {
      "cell_type": "code",
      "execution_count": null,
      "metadata": {},
      "outputs": [],
      "source": [
        "# Timecode 및 iteration number 초기화\n",
        "import datetime\n",
        "\n",
        "iteration_number = 0\n",
        "ts = datetime.datetime.now().strftime(\"%y%m%d%H%M%S\")"
      ]
    },
    {
      "cell_type": "markdown",
      "metadata": {},
      "source": [
        "- 아래 셀을 실행하여 생성하세요.\n",
        "- 여러 번 실행하면 실행 할 때마다 트랙이 추가됩니다."
      ]
    },
    {
      "cell_type": "code",
      "execution_count": null,
      "metadata": {},
      "outputs": [],
      "source": [
        "# Iteration 몇 번 돌았는지 기록\n",
        "iteration_number += 1\n",
        "print(f\"current iteration : {iteration_number}\")\n",
        "\n",
        "# Encode the conditioning tokens.\n",
        "input_ids = generated_ids.cuda() # 로컬에서 실행할 때는 cuda() 없애주기\n",
        "\n",
        "# Generate more tokens.\n",
        "eos_token_id = tokenizer[\"Track_End\"] # \"Track_End\" 토큰이 나올 때까지 생성 => iteration당 악기 한 트랙씩 생성하는 원리\n",
        "temperature = 0.8 # Temperature를 높이면 생성 결과가 더욱 randomize 되는 것 같습니다.\n",
        "generated_ids = model.generate(\n",
        "    input_ids,\n",
        "    max_length=1024,\n",
        "    do_sample=True,\n",
        "    temperature=temperature,\n",
        "    eos_token_id=eos_token_id,\n",
        ").cpu()\n",
        "\n",
        "print(generated_ids)"
      ]
    },
    {
      "cell_type": "markdown",
      "metadata": {},
      "source": [
        "생성된 토큰 미디 데이터로 변환"
      ]
    },
    {
      "cell_type": "code",
      "execution_count": null,
      "metadata": {},
      "outputs": [],
      "source": [
        "midi = tokenizer.tokens_to_midi(generated_ids[0])\n",
        "midi"
      ]
    },
    {
      "cell_type": "markdown",
      "metadata": {},
      "source": [
        "변환된 미디 데이터로 test_gen.mid 파일 생성"
      ]
    },
    {
      "cell_type": "code",
      "execution_count": null,
      "metadata": {},
      "outputs": [],
      "source": [
        "midi.dump_midi(f'./test_gen_iter_{iteration_number}.mid')"
      ]
    },
    {
      "cell_type": "markdown",
      "metadata": {},
      "source": [
        "### 🎉 축하합니다!"
      ]
    },
    {
      "cell_type": "markdown",
      "metadata": {},
      "source": [
        "- 학습 및 생성을 완료하였습니다. 여러 세팅으로 학습해보시고, 생성된 미디 파일을 다운받아 https://bandlab.com/ 등에서 실행시켜보세요\n",
        "- 서버에서 미디 재생이 안 되기 때문에, 생성된 모델과 miditok-gen.ipynb 파일을 다운받아 로컬에서 생성 실험을 계속하시는 것을 추천드립니다!"
      ]
    }
  ],
  "metadata": {
    "accelerator": "GPU",
    "colab": {
      "provenance": []
    },
    "gpuClass": "standard",
    "kernelspec": {
      "display_name": "Python 3",
      "name": "python3"
    },
    "language_info": {
      "codemirror_mode": {
        "name": "ipython",
        "version": 3
      },
      "file_extension": ".py",
      "mimetype": "text/x-python",
      "name": "python",
      "nbconvert_exporter": "python",
      "pygments_lexer": "ipython3",
      "version": "3.11.5"
    }
  },
  "nbformat": 4,
  "nbformat_minor": 0
}
