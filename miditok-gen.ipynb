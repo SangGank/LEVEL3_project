{
 "cells": [
  {
   "cell_type": "markdown",
   "metadata": {},
   "source": [
    "# MIDITok - Generating!"
   ]
  },
  {
   "cell_type": "markdown",
   "metadata": {},
   "source": [
    "## 1. Install & Import necessary libraries"
   ]
  },
  {
   "cell_type": "code",
   "execution_count": null,
   "metadata": {},
   "outputs": [],
   "source": [
    "!pip install miditok\n",
    "!pip install pygame\n",
    "!pip install note-seq"
   ]
  },
  {
   "cell_type": "code",
   "execution_count": null,
   "metadata": {},
   "outputs": [],
   "source": [
    "from transformers import GPT2LMHeadModel\n",
    "from miditok import MMM, TokenizerConfig\n",
    "import torch\n",
    "import pygame\n",
    "import datetime\n",
    "import note_seq\n",
    "import os"
   ]
  },
  {
   "cell_type": "markdown",
   "metadata": {},
   "source": [
    "🎹 MIDI 재생을 위한 play_midi 함수 정의"
   ]
  },
  {
   "cell_type": "code",
   "execution_count": null,
   "metadata": {},
   "outputs": [],
   "source": [
    "def play_midi(midi_file):\n",
    "    pygame.init()\n",
    "    pygame.mixer.init()\n",
    "\n",
    "    try:\n",
    "        pygame.mixer.music.load(midi_file)\n",
    "        pygame.mixer.music.play()\n",
    "\n",
    "        while pygame.mixer.music.get_busy():\n",
    "            pygame.time.Clock().tick(10)\n",
    "    except KeyboardInterrupt:\n",
    "        pygame.mixer.music.stop()\n",
    "        pygame.quit()"
   ]
  },
  {
   "cell_type": "markdown",
   "metadata": {},
   "source": [
    "## 2. 학습한 모델 불러오기"
   ]
  },
  {
   "cell_type": "markdown",
   "metadata": {},
   "source": [
    "기 학습 가중치 불러오기"
   ]
  },
  {
   "cell_type": "code",
   "execution_count": null,
   "metadata": {},
   "outputs": [],
   "source": [
    "model = GPT2LMHeadModel.from_pretrained(\"models/checkpoint-3000\") # 본인의 모델 경로로 바꿔주기!\n",
    "# model = GPT2LMHeadModel.from_pretrained(\"models/checkpoint-3700\").cuda() # 서버에서 추론시 .cuda() 붙여주기"
   ]
  },
  {
   "cell_type": "markdown",
   "metadata": {},
   "source": [
    "학습한 모델과 동일한 설정의 토크나이저 사용하기"
   ]
  },
  {
   "cell_type": "code",
   "execution_count": null,
   "metadata": {},
   "outputs": [],
   "source": [
    "# Creating a multitrack tokenizer configuration, read the doc to explore other parameters\n",
    "config = TokenizerConfig(\n",
    "    num_velocities=16, \n",
    "    use_chords=True, \n",
    "    use_programs=True,\n",
    "    use_pitch_intervals=True\n",
    "    )\n",
    "\n",
    "TOKENIZER_NAME = MMM\n",
    "# TOKENIZER_NAME = MuMIDI\n",
    "tokenizer = TOKENIZER_NAME(config)"
   ]
  },
  {
   "cell_type": "markdown",
   "metadata": {},
   "source": [
    "## 3. 생성하기"
   ]
  },
  {
   "cell_type": "markdown",
   "metadata": {},
   "source": [
    "### 🔄 초기화 셀\n",
    "- 처음 입력할 토큰을 지정해주고, tensor로 바꾸어 generated_ids 변수에 할당합니다\n",
    "- 기존 생성된 결과를 초기화하고 새로 생성하고 싶다면, 아래 셀을 실행하면 됩니다"
   ]
  },
  {
   "cell_type": "code",
   "execution_count": null,
   "metadata": {},
   "outputs": [],
   "source": [
    "# 생성 토큰 초기화\n",
    "initial_token = \"BOS_None\" # 처음에는 문장 시작을 알리는 \"BOS_None\"만 넣어줍니다\n",
    "generated_ids = torch.tensor([[tokenizer[initial_token]]])\n",
    "# print(generated_ids)\n",
    "\n",
    "# iteration number와 현재 timestamp 초기화\n",
    "iteration_number = 0\n",
    "ts = datetime.datetime.now().strftime(\"%y%m%d_%H%M%S\") # 출력 MIDI 파일명에 사용"
   ]
  },
  {
   "cell_type": "markdown",
   "metadata": {},
   "source": [
    "### 🪄 생성 셀!\n",
    "- 아래 셀을 실행하여 생성하세요.\n",
    "- 여러 번 실행하면 실행 할 때마다 트랙이 추가됩니다."
   ]
  },
  {
   "cell_type": "code",
   "execution_count": null,
   "metadata": {},
   "outputs": [],
   "source": [
    "# Iteration 몇 번 돌았는지 기록\n",
    "iteration_number += 1\n",
    "print(f\"current iteration : {iteration_number}\")\n",
    "\n",
    "# Encode the conditioning tokens.\n",
    "input_ids = generated_ids # 서버에서 추론할 경우 .cuda() 추가\n",
    "\n",
    "# Generate more tokens.\n",
    "eos_token_id = tokenizer[\"Track_End\"]  # \"Track_End\" 토큰이 나올 때까지 생성 => iteration당 한 트랙씩 생성하는 원리\n",
    "temperature = 0.8 # Temperature를 높이면 생성 결과가 더욱 randomize 되는 것 같습니다. 0~1 사이 값으로 자유롭게 시도해보세요!\n",
    "generated_ids = model.generate(\n",
    "    input_ids,\n",
    "    max_length=1024,\n",
    "    do_sample=True,\n",
    "    temperature=temperature,\n",
    "    eos_token_id=eos_token_id,\n",
    ").cpu()\n",
    "\n",
    "# MidiTok 라이브러리의 tokens_to_midi 기능 이용하여 미디 데이터로 변환\n",
    "midi = tokenizer.tokens_to_midi(generated_ids[0])\n",
    "midi.dump_midi('test_gen.mid') # 임시 MIDI 파일 생성\n",
    "\n",
    "# MIDI 파일 시각화\n",
    "note_sequence = note_seq.midi_file_to_note_sequence('test_gen.mid') # 시각화를 위해 note_sequence로 변환\n",
    "# 아랫줄 주석 풀고 실행하면 에러가 날텐데, 에러가 뜨는 notebook_utils.py 파일 링크로 들어가셔서 fig.plot_width 를 fig.width로, fig.plot_height를 fig.height로 고치면 돌아감\n",
    "# note_seq.plot_sequence(note_sequence, show_figure=True) \n",
    "\n",
    "# 확인용 출력문\n",
    "# print(midi) # 미디 파일 정보\n",
    "# print(generated_ids) # 생성된 토큰 아이디\n",
    "\n",
    "# MIDI 파일 재생\n",
    "play_midi('test_gen.mid')"
   ]
  },
  {
   "cell_type": "markdown",
   "metadata": {},
   "source": [
    "🏃 트랙을 더 추가하고 싶으면 다시 위로 올라가서 [🪄 생성 셀] 을 실행하세요~!"
   ]
  },
  {
   "cell_type": "markdown",
   "metadata": {},
   "source": [
    "### 💾 저장 셀\n",
    "- 현재 iteration의 생성 결과를 outputs 폴더에 output-timestamp-iteration 형태의 파일명으로 저장합니다."
   ]
  },
  {
   "cell_type": "code",
   "execution_count": null,
   "metadata": {},
   "outputs": [],
   "source": [
    "# 'outputs' 폴더 없으면 생성\n",
    "output_folder = 'outputs'\n",
    "if not os.path.exists(output_folder):\n",
    "    os.makedirs(output_folder)\n",
    "\n",
    "# 'outputs' 폴더 내에 MIDI 파일 저장\n",
    "output_file_path = os.path.join(output_folder, f'output-at-{ts}-iter{iteration_number}.mid')\n",
    "midi.dump_midi(output_file_path)"
   ]
  },
  {
   "cell_type": "markdown",
   "metadata": {},
   "source": [
    "### (Optional) 아래 두 셀은 생성 토큰 내용을 자연어 형태로 확인하고 싶을 때만 실행하세요!"
   ]
  },
  {
   "cell_type": "markdown",
   "metadata": {},
   "source": [
    "확인용 vocab dict 생성"
   ]
  },
  {
   "cell_type": "code",
   "execution_count": null,
   "metadata": {},
   "outputs": [],
   "source": [
    "vocab_dict = {}\n",
    "for k,v in tokenizer.vocab.items():\n",
    "    vocab_dict[v] = k"
   ]
  },
  {
   "cell_type": "markdown",
   "metadata": {},
   "source": [
    "생성된 id 자연어 형태 토큰으로 직접 확인"
   ]
  },
  {
   "cell_type": "code",
   "execution_count": null,
   "metadata": {},
   "outputs": [],
   "source": [
    "generated_tokens = []\n",
    "for g in generated_ids[0].tolist():\n",
    "    generated_tokens.append(vocab_dict[g])\n",
    "generated_tokens"
   ]
  }
 ],
 "metadata": {
  "kernelspec": {
   "display_name": "base",
   "language": "python",
   "name": "python3"
  },
  "language_info": {
   "codemirror_mode": {
    "name": "ipython",
    "version": 3
   },
   "file_extension": ".py",
   "mimetype": "text/x-python",
   "name": "python",
   "nbconvert_exporter": "python",
   "pygments_lexer": "ipython3",
   "version": "3.11.5"
  }
 },
 "nbformat": 4,
 "nbformat_minor": 2
}
