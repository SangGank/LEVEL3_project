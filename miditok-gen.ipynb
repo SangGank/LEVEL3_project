{
 "cells": [
  {
   "cell_type": "markdown",
   "metadata": {},
   "source": [
    "# MIDITok - Generating!"
   ]
  },
  {
   "cell_type": "markdown",
   "metadata": {},
   "source": [
    "## 1. Install & Import necessary libraries"
   ]
  },
  {
   "cell_type": "code",
   "execution_count": 1,
   "metadata": {},
   "outputs": [],
   "source": [
    "# !pip install miditok\n",
    "# !pip install pygame\n",
    "# !pip install note-seq"
   ]
  },
  {
   "cell_type": "code",
   "execution_count": 5,
   "metadata": {},
   "outputs": [],
   "source": [
    "from transformers import GPT2LMHeadModel\n",
    "from miditok import MMM, TokenizerConfig, REMI\n",
    "import torch\n",
    "import pygame\n",
    "import datetime\n",
    "import note_seq\n",
    "import os"
   ]
  },
  {
   "cell_type": "markdown",
   "metadata": {},
   "source": [
    "🎹 MIDI 재생을 위한 play_midi 함수 정의"
   ]
  },
  {
   "cell_type": "code",
   "execution_count": 3,
   "metadata": {},
   "outputs": [],
   "source": [
    "def play_midi(midi_file):\n",
    "    pygame.init()\n",
    "    pygame.mixer.init()\n",
    "\n",
    "    try:\n",
    "        pygame.mixer.music.load(midi_file)\n",
    "        pygame.mixer.music.play()\n",
    "\n",
    "        while pygame.mixer.music.get_busy():\n",
    "            pygame.time.Clock().tick(10)\n",
    "    except KeyboardInterrupt:\n",
    "        pygame.mixer.music.stop()\n",
    "        pygame.quit()"
   ]
  },
  {
   "cell_type": "markdown",
   "metadata": {},
   "source": [
    "## 2. 학습한 모델 불러오기"
   ]
  },
  {
   "cell_type": "markdown",
   "metadata": {},
   "source": [
    "기 학습 가중치 불러오기"
   ]
  },
  {
   "cell_type": "code",
   "execution_count": 4,
   "metadata": {},
   "outputs": [],
   "source": [
    "model = GPT2LMHeadModel.from_pretrained(\"model_none/checkpoint-5800\") # 본인의 모델 경로로 바꿔주기!\n",
    "# model = GPT2LMHeadModel.from_pretrained(\"models/checkpoint-3700\").cuda() # 서버에서 추론시 .cuda() 붙여주기"
   ]
  },
  {
   "cell_type": "markdown",
   "metadata": {},
   "source": [
    "학습한 모델과 동일한 설정의 토크나이저 사용하기"
   ]
  },
  {
   "cell_type": "code",
   "execution_count": 7,
   "metadata": {},
   "outputs": [],
   "source": [
    "TOKENIZER_PARAMS = {\n",
    "    \"pitch_range\": (0, 127),\n",
    "    \"num_velocities\": 127,\n",
    "    \"use_chords\": True,\n",
    "    \"use_tempos\": True,\n",
    "    \"use_programs\": True,\n",
    "    \"num_tempos\": 211,  # number of tempo bins\n",
    "    \"tempo_range\": (40, 250),  # (min, max)\n",
    "}\n",
    "config = TokenizerConfig(**TOKENIZER_PARAMS)\n",
    "TOKENIZER_NAME = REMI\n",
    "tokenizer = TOKENIZER_NAME(config)"
   ]
  },
  {
   "cell_type": "markdown",
   "metadata": {},
   "source": [
    "## 3. 생성하기"
   ]
  },
  {
   "cell_type": "markdown",
   "metadata": {},
   "source": [
    "### 🔄 초기화 셀\n",
    "- 처음 입력할 토큰을 지정해주고, tensor로 바꾸어 generated_ids 변수에 할당합니다\n",
    "- 기존 생성된 결과를 초기화하고 새로 생성하고 싶다면, 아래 셀을 실행하면 됩니다"
   ]
  },
  {
   "cell_type": "code",
   "execution_count": 14,
   "metadata": {},
   "outputs": [],
   "source": [
    "# 생성 토큰 초기화\n",
    "# initial_token = \"BOS_None\" # 처음에는 문장 시작을 알리는 \"BOS_None\"만 넣어줍니다\n",
    "# generated_ids = torch.tensor([[tokenizer[initial_token]]])\n",
    "\n",
    "next_tokens = \"BOS_None Bar_None Position_0 Tempo_120.0\"\n",
    "generated_ids = torch.tensor([[tokenizer[token] for token in next_tokens.split(\" \")]])\n",
    "\n",
    "# print(generated_ids)\n",
    "midi_tokens = generated_ids[0]\n",
    "# iteration number와 현재 timestamp 초기화\n",
    "iteration_number = 0\n",
    "ts = datetime.datetime.now().strftime(\"%y%m%d_%H%M%S\") # 출력 MIDI 파일명에 사용"
   ]
  },
  {
   "cell_type": "markdown",
   "metadata": {},
   "source": [
    "### 🪄 생성 셀!\n",
    "- 아래 셀을 실행하여 생성하세요.\n",
    "- 여러 번 실행하면 실행 할 때마다 트랙이 추가됩니다."
   ]
  },
  {
   "cell_type": "code",
   "execution_count": 15,
   "metadata": {},
   "outputs": [
    {
     "name": "stdout",
     "output_type": "stream",
     "text": [
      "current iteration : 1\n",
      "4\n",
      "변경 전 4\n",
      "변경 후 4\n",
      "129\n",
      "변경 전 129\n",
      "변경 후 129\n",
      "258\n",
      "변경 전 258\n",
      "변경 후 258\n",
      "442\n",
      "변경 전 442\n",
      "변경 후 442\n",
      "629\n",
      "변경 전 629\n",
      "변경 후 629\n",
      "1024\n",
      "변경 전 1024\n",
      "수정 됨\n",
      "수정 됨\n",
      "수정 됨\n",
      "수정 됨\n",
      "변경 후 583\n",
      "1026\n",
      "변경 전 585\n",
      "변경 후 585\n",
      "1233\n",
      "변경 전 792\n",
      "수정 됨\n",
      "수정 됨\n",
      "변경 후 605\n",
      "1466\n",
      "변경 전 838\n",
      "수정 됨\n",
      "수정 됨\n",
      "변경 후 441\n",
      "1701\n",
      "변경 전 676\n",
      "변경 후 676\n",
      "2049\n",
      "변경 전 1024\n",
      "수정 됨\n",
      "수정 됨\n",
      "수정 됨\n",
      "변경 후 584\n",
      "2130\n",
      "변경 전 665\n",
      "변경 후 665\n",
      "2304\n",
      "변경 전 839\n",
      "수정 됨\n",
      "수정 됨\n",
      "변경 후 604\n",
      "2479\n",
      "변경 전 779\n",
      "수정 됨\n",
      "수정 됨\n",
      "변경 후 350\n",
      "2630\n",
      "변경 전 501\n",
      "변경 후 501\n",
      "2748\n",
      "변경 전 619\n",
      "변경 후 619\n",
      "2874\n",
      "변경 전 745\n",
      "수정 됨\n",
      "수정 됨\n",
      "변경 후 571\n",
      "2999\n",
      "변경 전 696\n",
      "변경 후 696\n",
      "3132\n",
      "변경 전 829\n",
      "수정 됨\n",
      "수정 됨\n",
      "변경 후 654\n",
      "3295\n",
      "변경 전 817\n",
      "수정 됨\n",
      "수정 됨\n",
      "변경 후 666\n",
      "3481\n",
      "변경 전 852\n",
      "수정 됨\n",
      "수정 됨\n",
      "수정 됨\n",
      "변경 후 608\n",
      "3659\n",
      "변경 전 786\n",
      "수정 됨\n",
      "수정 됨\n",
      "변경 후 661\n",
      "[name: \"Acoustic Grand Piano\"\n",
      ", instrument: 1\n",
      "name: \"Acoustic Bass\"\n",
      ", instrument: 2\n",
      "name: \"Drums\"\n",
      ", instrument: 3\n",
      "name: \"Fretless Bass\"\n",
      "]\n"
     ]
    },
    {
     "name": "stderr",
     "output_type": "stream",
     "text": [
      "/tmp/ipykernel_1348945/1296252928.py:3: RuntimeWarning: use mixer: libgthread-2.0.so.0: cannot open shared object file: No such file or directory\n",
      "(ImportError: libgthread-2.0.so.0: cannot open shared object file: No such file or directory)\n",
      "  pygame.mixer.init()\n"
     ]
    },
    {
     "ename": "NotImplementedError",
     "evalue": "mixer module not available (ImportError: libgthread-2.0.so.0: cannot open shared object file: No such file or directory)",
     "output_type": "error",
     "traceback": [
      "\u001b[0;31m---------------------------------------------------------------------------\u001b[0m",
      "\u001b[0;31mNotImplementedError\u001b[0m                       Traceback (most recent call last)",
      "Cell \u001b[0;32mIn[15], line 60\u001b[0m\n\u001b[1;32m     56\u001b[0m     \u001b[38;5;28;01mpass\u001b[39;00m\n\u001b[1;32m     59\u001b[0m \u001b[38;5;66;03m# MIDI 파일 재생\u001b[39;00m\n\u001b[0;32m---> 60\u001b[0m \u001b[43mplay_midi\u001b[49m\u001b[43m(\u001b[49m\u001b[38;5;124;43m'\u001b[39;49m\u001b[38;5;124;43mtest_gen.mid\u001b[39;49m\u001b[38;5;124;43m'\u001b[39;49m\u001b[43m)\u001b[49m\n",
      "Cell \u001b[0;32mIn[3], line 3\u001b[0m, in \u001b[0;36mplay_midi\u001b[0;34m(midi_file)\u001b[0m\n\u001b[1;32m      1\u001b[0m \u001b[38;5;28;01mdef\u001b[39;00m \u001b[38;5;21mplay_midi\u001b[39m(midi_file):\n\u001b[1;32m      2\u001b[0m     pygame\u001b[38;5;241m.\u001b[39minit()\n\u001b[0;32m----> 3\u001b[0m     \u001b[43mpygame\u001b[49m\u001b[38;5;241;43m.\u001b[39;49m\u001b[43mmixer\u001b[49m\u001b[38;5;241;43m.\u001b[39;49m\u001b[43minit\u001b[49m()\n\u001b[1;32m      5\u001b[0m     \u001b[38;5;28;01mtry\u001b[39;00m:\n\u001b[1;32m      6\u001b[0m         pygame\u001b[38;5;241m.\u001b[39mmixer\u001b[38;5;241m.\u001b[39mmusic\u001b[38;5;241m.\u001b[39mload(midi_file)\n",
      "File \u001b[0;32m/opt/conda/lib/python3.10/site-packages/pygame/__init__.py:70\u001b[0m, in \u001b[0;36mMissingModule.__getattr__\u001b[0;34m(self, var)\u001b[0m\n\u001b[1;32m     68\u001b[0m     \u001b[38;5;28mself\u001b[39m\u001b[38;5;241m.\u001b[39murgent \u001b[38;5;241m=\u001b[39m \u001b[38;5;241m1\u001b[39m\n\u001b[1;32m     69\u001b[0m missing_msg \u001b[38;5;241m=\u001b[39m \u001b[38;5;124mf\u001b[39m\u001b[38;5;124m\"\u001b[39m\u001b[38;5;132;01m{\u001b[39;00m\u001b[38;5;28mself\u001b[39m\u001b[38;5;241m.\u001b[39mname\u001b[38;5;132;01m}\u001b[39;00m\u001b[38;5;124m module not available (\u001b[39m\u001b[38;5;132;01m{\u001b[39;00m\u001b[38;5;28mself\u001b[39m\u001b[38;5;241m.\u001b[39mreason\u001b[38;5;132;01m}\u001b[39;00m\u001b[38;5;124m)\u001b[39m\u001b[38;5;124m\"\u001b[39m\n\u001b[0;32m---> 70\u001b[0m \u001b[38;5;28;01mraise\u001b[39;00m \u001b[38;5;167;01mNotImplementedError\u001b[39;00m(missing_msg)\n",
      "\u001b[0;31mNotImplementedError\u001b[0m: mixer module not available (ImportError: libgthread-2.0.so.0: cannot open shared object file: No such file or directory)"
     ]
    }
   ],
   "source": [
    "# Iteration 몇 번 돌았는지 기록\n",
    "iteration_number += 1\n",
    "print(f\"current iteration : {iteration_number}\")\n",
    "\n",
    "while len(midi_tokens)<4000:\n",
    "    print(len(midi_tokens))\n",
    "    # Encode the conditioning tokens.\n",
    "    input_ids = generated_ids # 서버에서 추론할 경우 .cuda() 추가\n",
    "    point = 1\n",
    "    if len(input_ids[0]) > 700:\n",
    "        for idx, token in enumerate(input_ids[0]):\n",
    "            if token == tokenizer[\"Bar_None\"]:\n",
    "                \n",
    "                if len(input_ids[0])-idx <700:\n",
    "                    input_ids = input_ids[:, idx:]\n",
    "                    break\n",
    "                # point = 1\n",
    "\n",
    "    save_point = len(input_ids[0])\n",
    "\n",
    "    # Generate more tokens.\n",
    "    eos_token_id = tokenizer[\"Bar_None\"]  # \"Bar_None\" 토큰이 나올 때까지 생성 => iteration당 한 트랙씩 생성하는 원리\n",
    "    # eos_token_id =tokenizer[\"EOS_None\"]\n",
    "    temperature = 0.8 # Temperature를 높이면 생성 결과가 더욱 randomize 되는 것 같습니다. 0~1 사이 값으로 자유롭게 시도해보세요!\n",
    "\n",
    "\n",
    "    generated_ids = model.generate(\n",
    "        input_ids,\n",
    "        max_length=1024,\n",
    "        do_sample=True,\n",
    "        temperature=temperature,\n",
    "        eos_token_id=eos_token_id,\n",
    "    ).cuda()\n",
    "    generated_ids =generated_ids.cpu()\n",
    "\n",
    "\n",
    "    midi_tokens = torch.concat([midi_tokens, generated_ids[0][save_point:]])\n",
    "# MidiTok 라이브러리의 tokens_to_midi 기능 이용하여 미디 데이터로 변환\n",
    "midi = tokenizer.tokens_to_midi(midi_tokens)\n",
    "midi.dump_midi('test_gen.mid') # 임시 MIDI 파일 생성\n",
    "\n",
    "note_sequence = note_seq.midi_file_to_note_sequence('test_gen.mid') # 시각화를 위해 note_sequence로 변환\n",
    "print(note_sequence.instrument_infos)\n",
    "\n",
    "\n",
    "try:\n",
    "    note_seq.plot_sequence(note_sequence, show_figure=True) # 미디 파일 시각화\n",
    "except:\n",
    "    pass\n",
    "\n",
    "\n",
    "# MIDI 파일 재생\n",
    "play_midi('test_gen.mid')"
   ]
  },
  {
   "cell_type": "code",
   "execution_count": null,
   "metadata": {},
   "outputs": [],
   "source": [
    "# # Iteration 몇 번 돌았는지 기록\n",
    "# iteration_number += 1\n",
    "# print(f\"current iteration : {iteration_number}\")\n",
    "\n",
    "# # Encode the conditioning tokens.\n",
    "# input_ids = generated_ids # 서버에서 추론할 경우 .cuda() 추가\n",
    "\n",
    "# # Generate more tokens.\n",
    "# eos_token_id = tokenizer[\"Track_End\"]  # \"Track_End\" 토큰이 나올 때까지 생성 => iteration당 한 트랙씩 생성하는 원리\n",
    "# temperature = 0.8 # Temperature를 높이면 생성 결과가 더욱 randomize 되는 것 같습니다. 0~1 사이 값으로 자유롭게 시도해보세요!\n",
    "# generated_ids = model.generate(\n",
    "#     input_ids,\n",
    "#     max_length=1024,\n",
    "#     do_sample=True,\n",
    "#     temperature=temperature,\n",
    "#     eos_token_id=eos_token_id,\n",
    "# ).cpu()\n",
    "\n",
    "# # MidiTok 라이브러리의 tokens_to_midi 기능 이용하여 미디 데이터로 변환\n",
    "# midi = tokenizer.tokens_to_midi(generated_ids[0])\n",
    "# midi.dump_midi('test_gen.mid') # 임시 MIDI 파일 생성\n",
    "\n",
    "# # MIDI 파일 시각화\n",
    "# note_sequence = note_seq.midi_file_to_note_sequence('test_gen.mid') # 시각화를 위해 note_sequence로 변환\n",
    "# # 아랫줄 주석 풀고 실행하면 에러가 날텐데, 에러가 뜨는 notebook_utils.py 파일 링크로 들어가셔서 fig.plot_width 를 fig.width로, fig.plot_height를 fig.height로 고치면 돌아감\n",
    "# # note_seq.plot_sequence(note_sequence, show_figure=True) \n",
    "\n",
    "# # 확인용 출력문\n",
    "# # print(midi) # 미디 파일 정보\n",
    "# # print(generated_ids) # 생성된 토큰 아이디\n",
    "\n",
    "# # MIDI 파일 재생\n",
    "# play_midi('test_gen.mid')"
   ]
  },
  {
   "cell_type": "markdown",
   "metadata": {},
   "source": [
    "🏃 트랙을 더 추가하고 싶으면 다시 위로 올라가서 [🪄 생성 셀] 을 실행하세요~!"
   ]
  },
  {
   "cell_type": "markdown",
   "metadata": {},
   "source": [
    "### 💾 저장 셀\n",
    "- 현재 iteration의 생성 결과를 outputs 폴더에 output-timestamp-iteration 형태의 파일명으로 저장합니다."
   ]
  },
  {
   "cell_type": "code",
   "execution_count": null,
   "metadata": {},
   "outputs": [],
   "source": [
    "# 'outputs' 폴더 없으면 생성\n",
    "output_folder = 'outputs'\n",
    "if not os.path.exists(output_folder):\n",
    "    os.makedirs(output_folder)\n",
    "\n",
    "# 'outputs' 폴더 내에 MIDI 파일 저장\n",
    "output_file_path = os.path.join(output_folder, f'output-at-{ts}-iter{iteration_number}.mid')\n",
    "midi.dump_midi(output_file_path)"
   ]
  },
  {
   "cell_type": "markdown",
   "metadata": {},
   "source": [
    "### (Optional) 아래 두 셀은 생성 토큰 내용을 자연어 형태로 확인하고 싶을 때만 실행하세요!"
   ]
  },
  {
   "cell_type": "markdown",
   "metadata": {},
   "source": [
    "확인용 vocab dict 생성"
   ]
  },
  {
   "cell_type": "code",
   "execution_count": null,
   "metadata": {},
   "outputs": [],
   "source": [
    "vocab_dict = {}\n",
    "for k,v in tokenizer.vocab.items():\n",
    "    vocab_dict[v] = k"
   ]
  },
  {
   "cell_type": "markdown",
   "metadata": {},
   "source": [
    "생성된 id 자연어 형태 토큰으로 직접 확인"
   ]
  },
  {
   "cell_type": "code",
   "execution_count": null,
   "metadata": {},
   "outputs": [],
   "source": [
    "generated_tokens = []\n",
    "for g in generated_ids[0].tolist():\n",
    "    generated_tokens.append(vocab_dict[g])\n",
    "generated_tokens"
   ]
  }
 ],
 "metadata": {
  "kernelspec": {
   "display_name": "base",
   "language": "python",
   "name": "python3"
  },
  "language_info": {
   "codemirror_mode": {
    "name": "ipython",
    "version": 3
   },
   "file_extension": ".py",
   "mimetype": "text/x-python",
   "name": "python",
   "nbconvert_exporter": "python",
   "pygments_lexer": "ipython3",
   "version": "3.10.13"
  }
 },
 "nbformat": 4,
 "nbformat_minor": 2
}
