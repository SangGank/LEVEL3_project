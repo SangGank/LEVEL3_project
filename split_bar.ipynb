{
 "cells": [
  {
   "cell_type": "code",
   "execution_count": 1,
   "metadata": {},
   "outputs": [
    {
     "name": "stderr",
     "output_type": "stream",
     "text": [
      "/opt/conda/lib/python3.10/site-packages/tqdm/auto.py:21: TqdmWarning: IProgress not found. Please update jupyter and ipywidgets. See https://ipywidgets.readthedocs.io/en/stable/user_install.html\n",
      "  from .autonotebook import tqdm as notebook_tqdm\n"
     ]
    }
   ],
   "source": [
    "from miditok import MMM, MuMIDI, TokenizerConfig, Octuple, REMI\n",
    "from miditok.pytorch_data import DatasetTok, DataCollator\n",
    "from pathlib import Path\n",
    "from symusic import Score\n",
    "from torch.utils.data import Dataset\n",
    "import torch\n",
    "from tqdm import tqdm\n",
    "import os"
   ]
  },
  {
   "cell_type": "markdown",
   "metadata": {},
   "source": [
    "### Tokenizer 선언"
   ]
  },
  {
   "cell_type": "code",
   "execution_count": 41,
   "metadata": {},
   "outputs": [],
   "source": [
    "from __future__ import annotations\n",
    "\n",
    "from typing import TYPE_CHECKING\n",
    "\n",
    "from symusic import (\n",
    "    Note,\n",
    "    Pedal,\n",
    "    PitchBend,\n",
    "    Score,\n",
    "    Tempo,\n",
    "    TimeSignature,\n",
    "    Track,\n",
    ")\n",
    "\n",
    "from miditok.classes import Event, TokenizerConfig, TokSequence\n",
    "from miditok.constants import MIDI_INSTRUMENTS, TIME_SIGNATURE\n",
    "from miditok.midi_tokenizer import MIDITokenizer\n",
    "from miditok.utils import compute_ticks_per_bar, compute_ticks_per_beat\n",
    "\n",
    "if TYPE_CHECKING:\n",
    "    from pathlib import Path\n",
    "\n",
    "class CustomREMI(REMI):\n",
    "    def _tokens_to_midi(\n",
    "        self,\n",
    "        tokens: TokSequence | list[TokSequence],\n",
    "        programs: list[tuple[int, bool]] | None = None,\n",
    "    ) -> Score:\n",
    "        r\"\"\"\n",
    "        Convert tokens (:class:`miditok.TokSequence`) into a MIDI.\n",
    "\n",
    "        This is an internal method called by ``self.tokens_to_midi``, intended to be\n",
    "        implemented by classes inheriting :class:`miditok.MidiTokenizer`.\n",
    "\n",
    "        :param tokens: tokens to convert. Can be either a list of\n",
    "            :class:`miditok.TokSequence` or a list of :class:`miditok.TokSequence`s.\n",
    "        :param programs: programs of the tracks. If none is given, will default to\n",
    "            piano, program 0. (default: ``None``)\n",
    "        :return: the midi object (:class:`symusic.Score`).\n",
    "        \"\"\"\n",
    "        # Unsqueeze tokens in case of one_token_stream\n",
    "        if self.one_token_stream:  # ie single token seq\n",
    "            tokens = [tokens]\n",
    "        for i in range(len(tokens)):\n",
    "            tokens[i] = tokens[i].tokens\n",
    "        midi = Score(self.time_division)\n",
    "\n",
    "        # RESULTS\n",
    "        tracks: dict[int, Track] = {}\n",
    "        tempo_changes, time_signature_changes = [], []\n",
    "\n",
    "        def check_inst(prog: int) -> None:\n",
    "            if prog not in tracks:\n",
    "                tracks[prog] = Track(\n",
    "                    program=0 if prog == -1 else prog,\n",
    "                    is_drum=prog == -1,\n",
    "                    name=\"Drums\" if prog == -1 else MIDI_INSTRUMENTS[prog][\"name\"],\n",
    "                )\n",
    "\n",
    "        current_instrument = None\n",
    "        for si, seq in enumerate(tokens):\n",
    "            # First look for the first time signature if needed\n",
    "            if si == 0:\n",
    "                if self.config.use_time_signatures:\n",
    "                    for token in seq:\n",
    "                        tok_type, tok_val = token.split(\"_\")\n",
    "                        if tok_type == \"TimeSig\":\n",
    "                            time_signature_changes.append(\n",
    "                                TimeSignature(0, *list(map(int, tok_val.split(\"/\"))))\n",
    "                            )\n",
    "                            break\n",
    "                        if tok_type in [\n",
    "                            \"Pitch\",\n",
    "                            \"PitchDrum\",\n",
    "                            \"Velocity\",\n",
    "                            \"Duration\",\n",
    "                            \"PitchBend\",\n",
    "                            \"Pedal\",\n",
    "                        ]:\n",
    "                            break\n",
    "                if len(time_signature_changes) == 0:\n",
    "                    time_signature_changes.append(TimeSignature(0, *TIME_SIGNATURE))\n",
    "            current_time_sig = time_signature_changes[-1]\n",
    "            ticks_per_bar = compute_ticks_per_bar(\n",
    "                current_time_sig, midi.ticks_per_quarter\n",
    "            )\n",
    "            ticks_per_beat = self._tpb_per_ts[current_time_sig.denominator]\n",
    "            ticks_per_pos = ticks_per_beat // self.config.max_num_pos_per_beat\n",
    "\n",
    "            # Set tracking variables\n",
    "            current_tick = tick_at_last_ts_change = tick_at_current_bar = 0\n",
    "            current_bar = -1\n",
    "            bar_at_last_ts_change = 0\n",
    "            current_program = 0\n",
    "            previous_note_end = 0\n",
    "            previous_pitch_onset = {prog: -128 for prog in self.config.programs}\n",
    "            previous_pitch_chord = {prog: -128 for prog in self.config.programs}\n",
    "            active_pedals = {}\n",
    "\n",
    "            # Set track / sequence program if needed\n",
    "            if not self.one_token_stream:\n",
    "                is_drum = False\n",
    "                if programs is not None:\n",
    "                    current_program, is_drum = programs[si]\n",
    "                current_instrument = Track(\n",
    "                    program=current_program,\n",
    "                    is_drum=is_drum,\n",
    "                    name=\"Drums\"\n",
    "                    if current_program == -1\n",
    "                    else MIDI_INSTRUMENTS[current_program][\"name\"],\n",
    "                )\n",
    "\n",
    "            # Decode tokens\n",
    "            for ti, token in enumerate(seq):\n",
    "                tok_type, tok_val = token.split(\"_\")\n",
    "                if tok_type == \"Bar\":\n",
    "                    current_bar = int(tok_val)\n",
    "                    if current_bar > 0:\n",
    "                        current_tick = tick_at_current_bar + ticks_per_bar\n",
    "                    tick_at_current_bar = current_tick\n",
    "                elif tok_type == \"Rest\":\n",
    "                    current_tick = max(previous_note_end, current_tick)\n",
    "                    current_tick += self._tpb_rests_to_ticks[ticks_per_beat][tok_val]\n",
    "                    real_current_bar = (\n",
    "                        bar_at_last_ts_change\n",
    "                        + (current_tick - tick_at_last_ts_change) // ticks_per_bar\n",
    "                    )\n",
    "                    if real_current_bar > current_bar:\n",
    "                        # In case we instantly begin with a Rest,\n",
    "                        # we need to update current_bar\n",
    "                        if current_bar == -1:\n",
    "                            current_bar = 0\n",
    "                        tick_at_current_bar += (\n",
    "                            real_current_bar - current_bar\n",
    "                        ) * ticks_per_bar\n",
    "                        current_bar = real_current_bar\n",
    "                elif tok_type == \"Position\":\n",
    "                    if current_bar == -1:\n",
    "                        # as this Position token occurs before any Bar token\n",
    "                        current_bar = 0\n",
    "                    current_tick = tick_at_current_bar + int(tok_val) * ticks_per_pos\n",
    "                elif tok_type in {\n",
    "                    \"Pitch\",\n",
    "                    \"PitchDrum\",\n",
    "                    \"PitchIntervalTime\",\n",
    "                    \"PitchIntervalChord\",\n",
    "                }:\n",
    "                    if tok_type in {\"Pitch\", \"PitchDrum\"}:\n",
    "                        pitch = int(tok_val)\n",
    "                        previous_pitch_onset[current_program] = pitch\n",
    "                        previous_pitch_chord[current_program] = pitch\n",
    "                    # We update previous_pitch_onset and previous_pitch_chord even if\n",
    "                    # the try fails.\n",
    "                    elif tok_type == \"PitchIntervalTime\":\n",
    "                        pitch = previous_pitch_onset[current_program] + int(tok_val)\n",
    "                        previous_pitch_onset[current_program] = pitch\n",
    "                        previous_pitch_chord[current_program] = pitch\n",
    "                    else:  # PitchIntervalChord\n",
    "                        pitch = previous_pitch_chord[current_program] + int(tok_val)\n",
    "                        previous_pitch_chord[current_program] = pitch\n",
    "                    try:\n",
    "                        vel_type, vel = seq[ti + 1].split(\"_\")\n",
    "                        dur_type, dur = seq[ti + 2].split(\"_\")\n",
    "                        if vel_type == \"Velocity\" and dur_type == \"Duration\":\n",
    "                            dur = self._tpb_tokens_to_ticks[ticks_per_beat][dur]\n",
    "                            new_note = Note(\n",
    "                                current_tick,\n",
    "                                dur,\n",
    "                                pitch,\n",
    "                                int(vel),\n",
    "                            )\n",
    "                            if self.one_token_stream:\n",
    "                                check_inst(current_program)\n",
    "                                tracks[current_program].notes.append(new_note)\n",
    "                            else:\n",
    "                                current_instrument.notes.append(new_note)\n",
    "                            previous_note_end = max(\n",
    "                                previous_note_end, current_tick + dur\n",
    "                            )\n",
    "                    except IndexError:\n",
    "                        # A well constituted sequence should not raise an exception\n",
    "                        # However with generated sequences this can happen, or if the\n",
    "                        # sequence isn't finished\n",
    "                        pass\n",
    "                elif tok_type == \"Program\":\n",
    "                    current_program = int(tok_val)\n",
    "                elif tok_type == \"Tempo\":\n",
    "                    if si == 0:\n",
    "                        tempo_changes.append(Tempo(current_tick, float(tok_val)))\n",
    "                    previous_note_end = max(previous_note_end, current_tick)\n",
    "                elif tok_type == \"TimeSig\":\n",
    "                    num, den = self._parse_token_time_signature(tok_val)\n",
    "                    if (\n",
    "                        num != current_time_sig.numerator\n",
    "                        or den != current_time_sig.denominator\n",
    "                    ):\n",
    "                        current_time_sig = TimeSignature(current_tick, num, den)\n",
    "                        if si == 0:\n",
    "                            time_signature_changes.append(current_time_sig)\n",
    "                        tick_at_last_ts_change = tick_at_current_bar  # == current_tick\n",
    "                        bar_at_last_ts_change = current_bar\n",
    "                        ticks_per_bar = compute_ticks_per_bar(\n",
    "                            current_time_sig, midi.ticks_per_quarter\n",
    "                        )\n",
    "                        ticks_per_beat = self._tpb_per_ts[den]\n",
    "                        ticks_per_pos = (\n",
    "                            ticks_per_beat // self.config.max_num_pos_per_beat\n",
    "                        )\n",
    "                elif tok_type == \"Pedal\":\n",
    "                    pedal_prog = (\n",
    "                        int(tok_val) if self.config.use_programs else current_program\n",
    "                    )\n",
    "                    if self.config.sustain_pedal_duration and ti + 1 < len(seq):\n",
    "                        if seq[ti + 1].split(\"_\")[0] == \"Duration\":\n",
    "                            duration = self._tpb_tokens_to_ticks[ticks_per_beat][\n",
    "                                seq[ti + 1].split(\"_\")[1]\n",
    "                            ]\n",
    "                            # Add instrument if it doesn't exist, can happen for the\n",
    "                            # first tokens\n",
    "                            new_pedal = Pedal(current_tick, duration)\n",
    "                            if self.one_token_stream:\n",
    "                                check_inst(pedal_prog)\n",
    "                                tracks[pedal_prog].pedals.append(new_pedal)\n",
    "                            else:\n",
    "                                current_instrument.pedals.append(new_pedal)\n",
    "                    elif pedal_prog not in active_pedals:\n",
    "                        active_pedals[pedal_prog] = current_tick\n",
    "                elif tok_type == \"PedalOff\":\n",
    "                    pedal_prog = (\n",
    "                        int(tok_val) if self.config.use_programs else current_program\n",
    "                    )\n",
    "                    if pedal_prog in active_pedals:\n",
    "                        new_pedal = Pedal(\n",
    "                            active_pedals[pedal_prog],\n",
    "                            current_tick - active_pedals[pedal_prog],\n",
    "                        )\n",
    "                        if self.one_token_stream:\n",
    "                            check_inst(pedal_prog)\n",
    "                            tracks[pedal_prog].pedals.append(\n",
    "                                Pedal(\n",
    "                                    active_pedals[pedal_prog],\n",
    "                                    current_tick - active_pedals[pedal_prog],\n",
    "                                )\n",
    "                            )\n",
    "                        else:\n",
    "                            current_instrument.pedals.append(new_pedal)\n",
    "                        del active_pedals[pedal_prog]\n",
    "                elif tok_type == \"PitchBend\":\n",
    "                    new_pitch_bend = PitchBend(current_tick, int(tok_val))\n",
    "                    if self.one_token_stream:\n",
    "                        check_inst(current_program)\n",
    "                        tracks[current_program].pitch_bends.append(new_pitch_bend)\n",
    "                    else:\n",
    "                        current_instrument.pitch_bends.append(new_pitch_bend)\n",
    "\n",
    "            # Add current_inst to midi and handle notes still active\n",
    "            if not self.one_token_stream:\n",
    "                midi.tracks.append(current_instrument)\n",
    "\n",
    "        # create MidiFile\n",
    "        if self.one_token_stream:\n",
    "            midi.tracks = list(tracks.values())\n",
    "        midi.tempos = tempo_changes\n",
    "        midi.time_signatures = time_signature_changes\n",
    "\n",
    "        return midi"
   ]
  },
  {
   "cell_type": "code",
   "execution_count": 2,
   "metadata": {},
   "outputs": [
    {
     "data": {
      "text/plain": [
       "770"
      ]
     },
     "execution_count": 2,
     "metadata": {},
     "output_type": "execute_result"
    }
   ],
   "source": [
    "TOKENIZER_PARAMS = {\n",
    "    \"pitch_range\": (0, 127),\n",
    "    \"num_velocities\": 127,\n",
    "    # \"special_tokens\": [\"PAD\", \"BOS\", \"EOS\", \"MASK\"],\n",
    "    \"max_bar_embedding\" : 3000,\n",
    "    \"use_chords\": True,\n",
    "    \"use_tempos\": True,\n",
    "    \"use_programs\": True,\n",
    "    \"num_tempos\": 211,  # number of tempo bins\n",
    "    \"tempo_range\": (40, 250),  # (min, max)\n",
    "}\n",
    "config = TokenizerConfig(**TOKENIZER_PARAMS)\n",
    "TOKENIZER_NAME = REMI\n",
    "# TOKENIZER_NAME = CustomREMI\n",
    "\n",
    "tokenizer = TOKENIZER_NAME(config)\n",
    "len(tokenizer)"
   ]
  },
  {
   "cell_type": "markdown",
   "metadata": {},
   "source": [
    "### 음악 분할"
   ]
  },
  {
   "cell_type": "code",
   "execution_count": 46,
   "metadata": {},
   "outputs": [
    {
     "name": "stderr",
     "output_type": "stream",
     "text": [
      "100%|██████████| 364/364 [02:19<00:00,  2.61it/s]\n"
     ]
    }
   ],
   "source": [
    "### 노래가 저장되어있는 폴더 명\n",
    "dir_path ='./clean_midi'\n",
    "### 저장할 폴더\n",
    "CHUNK_PATH = './lakh'\n",
    "\n",
    "## 몇 바를 기준으로 나눌 것인가\n",
    "bar_num = 3\n",
    "\n",
    "for song in tqdm(os.listdir(dir_path)):\n",
    "    # print(song)\n",
    "    if not os.path.exists(f'{CHUNK_PATH}/{song[:-4]}'):\n",
    "            os.makedirs(f'{CHUNK_PATH}/{song[:-4]}')\n",
    "    tokens = tokenizer(f'{dir_path}/{song}')\n",
    "    li=[]\n",
    "    tempo =0\n",
    "    for ids, token in enumerate(tokens.tokens):\n",
    "        if ids == 0:\n",
    "            li.append(token)\n",
    "            continue\n",
    "        \n",
    "        if tokens.events[ids].type_ =='Tempo':\n",
    "            tempo = token\n",
    "            continue\n",
    "            \n",
    "\n",
    "        if tokens.events[ids].type_ =='Bar':\n",
    "            li.append(tempo)\n",
    "            current_bar = int(token[4:])\n",
    "        \n",
    "            if current_bar % bar_num == 0 :\n",
    "                tokenizer(li).dump_midi(f'{CHUNK_PATH}/{song[:-4]}/{current_bar}.mid')\n",
    "                li=[]\n",
    "            li.append(token)\n",
    "            continue\n",
    "        \n",
    "        li.append(token)\n",
    "    \n",
    "    li.append(tempo)\n",
    "    tokenizer(li).dump_midi(f'{CHUNK_PATH}/{song[:-4]}/{current_bar+1}.mid')\n"
   ]
  },
  {
   "cell_type": "markdown",
   "metadata": {},
   "source": [
    "### tokenizer 갯수로 bar 나누기"
   ]
  },
  {
   "cell_type": "code",
   "execution_count": 8,
   "metadata": {},
   "outputs": [
    {
     "name": "stderr",
     "output_type": "stream",
     "text": [
      " 60%|██████    | 1327/2198 [00:11<00:10, 83.22it/s]  "
     ]
    },
    {
     "name": "stdout",
     "output_type": "stream",
     "text": [
      "song is too long Shock in my town.mid\n",
      "Shock in my town.mid\n",
      "song is too long Shock in my town.1.mid\n",
      "Shock in my town.1.mid\n"
     ]
    },
    {
     "name": "stderr",
     "output_type": "stream",
     "text": [
      " 71%|███████   | 1551/2198 [05:21<05:15,  2.05it/s]  "
     ]
    },
    {
     "name": "stdout",
     "output_type": "stream",
     "text": [
      "song is too long Welcome Home (Sanitarium).1.mid\n",
      "Welcome Home (Sanitarium).1.mid\n",
      "song is too long Welcome Home (Sanitarium).2.mid\n",
      "Welcome Home (Sanitarium).2.mid\n",
      "song is too long Welcome Home (Sanitarium).mid\n",
      "Welcome Home (Sanitarium).mid\n"
     ]
    },
    {
     "name": "stderr",
     "output_type": "stream",
     "text": [
      " 77%|███████▋  | 1693/2198 [08:19<09:40,  1.15s/it]  "
     ]
    },
    {
     "name": "stdout",
     "output_type": "stream",
     "text": [
      "song is too long Romantica.mid\n",
      "Romantica.mid\n"
     ]
    },
    {
     "name": "stderr",
     "output_type": "stream",
     "text": [
      " 78%|███████▊  | 1710/2198 [08:55<08:09,  1.00s/it]"
     ]
    },
    {
     "name": "stdout",
     "output_type": "stream",
     "text": [
      "song is too long Silverfuck.mid\n",
      "Silverfuck.mid\n"
     ]
    },
    {
     "name": "stderr",
     "output_type": "stream",
     "text": [
      " 80%|████████  | 1767/2198 [10:33<14:01,  1.95s/it]  "
     ]
    },
    {
     "name": "stdout",
     "output_type": "stream",
     "text": [
      "song is too long Karn Evil 9_ 1st Impression, Part 2.mid\n",
      "Karn Evil 9_ 1st Impression, Part 2.mid\n",
      "song is too long Karn Evil 9_ 1st Impression, Part 1.mid\n",
      "Karn Evil 9_ 1st Impression, Part 1.mid\n"
     ]
    },
    {
     "name": "stderr",
     "output_type": "stream",
     "text": [
      " 81%|████████  | 1785/2198 [11:25<08:10,  1.19s/it]  "
     ]
    },
    {
     "name": "stdout",
     "output_type": "stream",
     "text": [
      "song is too long Moi... Lolita.1.mid\n",
      "Moi... Lolita.1.mid\n"
     ]
    },
    {
     "name": "stderr",
     "output_type": "stream",
     "text": [
      " 86%|████████▌ | 1882/2198 [14:09<18:09,  3.45s/it]  "
     ]
    },
    {
     "name": "stdout",
     "output_type": "stream",
     "text": [
      "song is too long I Put A Spell On You.1.mid\n",
      "I Put A Spell On You.1.mid\n"
     ]
    },
    {
     "name": "stderr",
     "output_type": "stream",
     "text": [
      " 91%|█████████ | 2004/2198 [17:12<02:37,  1.23it/s]"
     ]
    },
    {
     "name": "stdout",
     "output_type": "stream",
     "text": [
      "song is too long Scream.1.mid\n",
      "Scream.1.mid\n"
     ]
    },
    {
     "name": "stderr",
     "output_type": "stream",
     "text": [
      "100%|██████████| 2198/2198 [22:23<00:00,  1.64it/s]\n"
     ]
    }
   ],
   "source": [
    "### 노래가 저장되어있는 폴더 명\n",
    "dir_path ='./clean_midi'\n",
    "### 저장할 폴더\n",
    "CHUNK_PATH = './lakh_max_token'\n",
    "\n",
    "## 최대 토크나이저를 몇으로 설정할 건가\n",
    "# 1000개 로 정해도 내부함수에 의해서 1000개 보다 많은 수가 나옴 적당히 조절\n",
    "max_tokenizer = 1000\n",
    "\n",
    "for in_path in tqdm(os.listdir(dir_path)):\n",
    "    # print(song)\n",
    "    for song in (os.listdir(f'{dir_path}/{in_path}')):\n",
    "        if not os.path.exists(f'{CHUNK_PATH}/{song[:-4]}'):\n",
    "                os.makedirs(f'{CHUNK_PATH}/{song[:-4]}')\n",
    "        else:\n",
    "            continue\n",
    "        try:\n",
    "            tokens = tokenizer(f'{dir_path}/{in_path}/{song}')\n",
    "        except:\n",
    "            continue\n",
    "\n",
    "        li=[]\n",
    "\n",
    "        temporary = []\n",
    "\n",
    "        tempo =0\n",
    "        num_mid = 0\n",
    "\n",
    "        for ids, token in enumerate(tokens.tokens):\n",
    "            if ids == 0:\n",
    "                temporary.append(token)\n",
    "                continue\n",
    "            \n",
    "            if tokens.events[ids].type_ =='Tempo':\n",
    "                tempo = token\n",
    "                continue\n",
    "                \n",
    "\n",
    "            if tokens.events[ids].type_ =='Bar':\n",
    "                temporary.append(tempo)\n",
    "\n",
    "                if len(li) + len(temporary) > max_tokenizer:\n",
    "\n",
    "                    ## 바 하나에 악기가 너무 많이 들어가는 등 토큰의 갯수가 너무 많으면 temporary만으로도 max_tokenizer의 수를 넘어가므로 종료\n",
    "                    if li:\n",
    "                        tokenizer(li).dump_midi(f'{CHUNK_PATH}/{song[:-4]}/{num_mid}.mid')\n",
    "\n",
    "                    else:\n",
    "                        print(\"song is too long\", song)\n",
    "\n",
    "                        break\n",
    "                    num_mid += 1\n",
    "                    li=[]\n",
    "                else:\n",
    "                    li += temporary\n",
    "\n",
    "                temporary = []\n",
    "                \n",
    "                temporary.append(token)\n",
    "                continue\n",
    "            \n",
    "            temporary.append(token)\n",
    "        \n",
    "        temporary.append(tempo)\n",
    "        if len(temporary) < max_tokenizer:\n",
    "            tokenizer(temporary).dump_midi(f'{CHUNK_PATH}/{song[:-4]}/{num_mid}.mid')\n",
    "        else:\n",
    "            print(song)\n",
    "\n"
   ]
  },
  {
   "cell_type": "markdown",
   "metadata": {},
   "source": [
    "### token 갯수 확인"
   ]
  },
  {
   "cell_type": "code",
   "execution_count": 21,
   "metadata": {},
   "outputs": [
    {
     "ename": "TypeError",
     "evalue": "'int' object is not callable",
     "output_type": "error",
     "traceback": [
      "\u001b[1;31m---------------------------------------------------------------------------\u001b[0m",
      "\u001b[1;31mTypeError\u001b[0m                                 Traceback (most recent call last)",
      "\u001b[1;32m~\\AppData\\Local\\Temp/ipykernel_13072/4222464975.py\u001b[0m in \u001b[0;36m<module>\u001b[1;34m\u001b[0m\n\u001b[1;32m----> 1\u001b[1;33m \u001b[0mmax\u001b[0m\u001b[1;33m(\u001b[0m\u001b[0mtokenizer_size\u001b[0m\u001b[1;33m)\u001b[0m\u001b[1;33m\u001b[0m\u001b[1;33m\u001b[0m\u001b[0m\n\u001b[0m",
      "\u001b[1;31mTypeError\u001b[0m: 'int' object is not callable"
     ]
    }
   ],
   "source": [
    "CHUNK_PATH = '../max_token'\n",
    "tokenizer_size = []\n",
    "\n",
    "for p in tqdm(list(Path(f\"../{CHUNK_PATH}\").glob(\"**/*.mid\"))):\n",
    "    tokenizer_size.append(len(tokenizer(p).tokens))\n",
    "\n",
    "max(tokenizer_size)"
   ]
  },
  {
   "cell_type": "code",
   "execution_count": 31,
   "metadata": {},
   "outputs": [
    {
     "data": {
      "text/plain": [
       "Score(ttype=Tick, tpq=8, begin=0, end=132, tracks=5, notes=234, time_sig=1, key_sig=0, markers=0, lyrics=0)"
      ]
     },
     "execution_count": 31,
     "metadata": {},
     "output_type": "execute_result"
    }
   ],
   "source": [
    "tokenizer(['Bar_60', 'Position_0', 'Program_0', 'Pitch_38', 'Velocity_81', 'Duration_0.3.8', 'Program_32', 'Pitch_38', 'Velocity_81', 'Duration_0.3.8', 'Program_26', 'Pitch_50', 'Velocity_71', 'Duration_0.3.8', 'Program_-1', 'PitchDrum_36', 'Velocity_65', 'Duration_1.0.8', 'Position_3', 'Program_0', 'Pitch_45', 'Velocity_69', 'Duration_0.1.8', 'Program_32', 'Pitch_45', 'Velocity_69', 'Duration_0.1.8', 'Program_26', 'Pitch_57', 'Velocity_59', 'Duration_0.1.8', 'Position_4', 'Program_0', 'Pitch_55', 'Velocity_91', 'Duration_0.3.8', 'Program_32', 'Pitch_55', 'Velocity_91', 'Duration_0.3.8', 'Program_26', 'Pitch_67', 'Velocity_81', 'Duration_0.3.8', 'Program_-1', 'PitchDrum_51', 'Velocity_120', 'Duration_0.4.8', 'Position_7', 'Program_-1', 'PitchDrum_50', 'Velocity_45', 'Duration_0.1.8', 'Program_-1', 'PitchDrum_64', 'Velocity_60', 'Duration_0.1.8', 'Position_8', 'Program_0', 'Pitch_54', 'Velocity_84', 'Duration_0.3.8', 'Program_32', 'Pitch_54', 'Velocity_84', 'Duration_0.3.8', 'Program_26', 'Pitch_66', 'Velocity_74', 'Duration_0.3.8', 'Program_11', 'Pitch_64', 'Velocity_51', 'Duration_6.2.4', 'Program_11', 'Pitch_66', 'Velocity_51', 'Duration_6.2.4', 'Program_11', 'Pitch_69', 'Velocity_51', 'Duration_6.2.4', 'Program_-1', 'PitchDrum_36', 'Velocity_60', 'Duration_1.0.8', 'Program_-1', 'PitchDrum_50', 'Velocity_55', 'Duration_0.1.8', 'Program_-1', 'PitchDrum_64', 'Velocity_70', 'Duration_0.1.8', 'Position_12', 'Program_0', 'Pitch_50', 'Velocity_69', 'Duration_0.3.8', 'Program_32', 'Pitch_50', 'Velocity_69', 'Duration_0.3.8', 'Program_26', 'Pitch_62', 'Velocity_59', 'Duration_0.3.8', 'Program_-1', 'PitchDrum_51', 'Velocity_120', 'Duration_0.4.8', 'Position_15', 'Program_0', 'Pitch_45', 'Velocity_57', 'Duration_0.1.8', 'Program_32', 'Pitch_45', 'Velocity_57', 'Duration_0.1.8', 'Program_26', 'Pitch_57', 'Velocity_47', 'Duration_0.1.8', 'Program_-1', 'PitchDrum_50', 'Velocity_45', 'Duration_0.1.8', 'Program_-1', 'PitchDrum_64', 'Velocity_60', 'Duration_0.1.8', 'Position_16', 'Program_0', 'Pitch_38', 'Velocity_69', 'Duration_0.3.8', 'Program_32', 'Pitch_38', 'Velocity_69', 'Duration_0.3.8', 'Program_26', 'Pitch_50', 'Velocity_59', 'Duration_0.3.8', 'Program_-1', 'PitchDrum_36', 'Velocity_60', 'Duration_1.0.8', 'Program_-1', 'PitchDrum_50', 'Velocity_55', 'Duration_0.1.8', 'Program_-1', 'PitchDrum_64', 'Velocity_70', 'Duration_0.1.8', 'Position_19', 'Program_0', 'Pitch_45', 'Velocity_54', 'Duration_0.1.8', 'Program_32', 'Pitch_45', 'Velocity_54', 'Duration_0.1.8', 'Program_26', 'Pitch_57', 'Velocity_44', 'Duration_0.1.8', 'Position_20', 'Program_0', 'Pitch_55', 'Velocity_87', 'Duration_0.3.8', 'Program_32', 'Pitch_55', 'Velocity_87', 'Duration_0.3.8', 'Program_26', 'Pitch_67', 'Velocity_77', 'Duration_0.3.8', 'Program_-1', 'PitchDrum_51', 'Velocity_120', 'Duration_0.2.8', 'Position_23', 'Program_0', 'Pitch_54', 'Velocity_69', 'Duration_0.1.8', 'Program_32', 'Pitch_54', 'Velocity_69', 'Duration_0.1.8', 'Program_26', 'Pitch_66', 'Velocity_59', 'Duration_0.1.8', 'Program_-1', 'PitchDrum_50', 'Velocity_45', 'Duration_0.1.8', 'Program_-1', 'PitchDrum_64', 'Velocity_60', 'Duration_0.1.8', 'Position_24', 'Program_-1', 'PitchDrum_36', 'Velocity_60', 'Duration_1.0.8', 'Program_-1', 'PitchDrum_50', 'Velocity_55', 'Duration_0.3.8', 'Program_-1', 'PitchDrum_64', 'Velocity_70', 'Duration_0.3.8', 'Position_27', 'Program_0', 'Pitch_50', 'Velocity_69', 'Duration_0.1.8', 'Program_32', 'Pitch_50', 'Velocity_69', 'Duration_0.1.8', 'Program_26', 'Pitch_62', 'Velocity_59', 'Duration_0.1.8', 'Position_28', 'Program_-1', 'PitchDrum_45', 'Velocity_80', 'Duration_1.0.8', 'Program_-1', 'PitchDrum_46', 'Velocity_120', 'Duration_0.2.8', 'Position_31', 'Program_0', 'Pitch_45', 'Velocity_60', 'Duration_0.1.8', 'Program_32', 'Pitch_45', 'Velocity_60', 'Duration_0.1.8', 'Program_26', 'Pitch_57', 'Velocity_50', 'Duration_0.1.8', 'Tempo_93.0', 'Bar_61', 'Position_0', 'Program_0', 'Pitch_38', 'Velocity_81', 'Duration_0.3.8', 'Program_32', 'Pitch_38', 'Velocity_81', 'Duration_0.3.8', 'Program_26', 'Pitch_50', 'Velocity_71', 'Duration_0.3.8', 'Program_-1', 'PitchDrum_36', 'Velocity_65', 'Duration_1.0.8', 'Position_3', 'Program_0', 'Pitch_45', 'Velocity_69', 'Duration_0.1.8', 'Program_32', 'Pitch_45', 'Velocity_69', 'Duration_0.1.8', 'Program_26', 'Pitch_57', 'Velocity_59', 'Duration_0.1.8', 'Position_4', 'Program_0', 'Pitch_55', 'Velocity_91', 'Duration_0.3.8', 'Program_32', 'Pitch_55', 'Velocity_91', 'Duration_0.3.8', 'Program_26', 'Pitch_67', 'Velocity_81', 'Duration_0.3.8', 'Program_-1', 'PitchDrum_51', 'Velocity_120', 'Duration_0.4.8', 'Position_7', 'Program_-1', 'PitchDrum_50', 'Velocity_45', 'Duration_0.1.8', 'Program_-1', 'PitchDrum_64', 'Velocity_60', 'Duration_0.1.8', 'Position_8', 'Program_0', 'Pitch_54', 'Velocity_84', 'Duration_0.3.8', 'Program_32', 'Pitch_54', 'Velocity_84', 'Duration_0.3.8', 'Program_26', 'Pitch_66', 'Velocity_74', 'Duration_0.3.8', 'Program_-1', 'PitchDrum_36', 'Velocity_60', 'Duration_1.0.8', 'Program_-1', 'PitchDrum_50', 'Velocity_55', 'Duration_0.1.8', 'Program_-1', 'PitchDrum_64', 'Velocity_70', 'Duration_0.1.8', 'Position_12', 'Program_0', 'Pitch_50', 'Velocity_69', 'Duration_0.3.8', 'Program_32', 'Pitch_50', 'Velocity_69', 'Duration_0.3.8', 'Program_26', 'Pitch_62', 'Velocity_59', 'Duration_0.3.8', 'Program_-1', 'PitchDrum_51', 'Velocity_120', 'Duration_0.4.8', 'Position_15', 'Program_0', 'Pitch_45', 'Velocity_57', 'Duration_0.1.8', 'Program_32', 'Pitch_45', 'Velocity_57', 'Duration_0.1.8', 'Program_26', 'Pitch_57', 'Velocity_47', 'Duration_0.1.8', 'Program_-1', 'PitchDrum_50', 'Velocity_45', 'Duration_0.1.8', 'Program_-1', 'PitchDrum_64', 'Velocity_60', 'Duration_0.1.8', 'Position_16', 'Program_0', 'Pitch_38', 'Velocity_69', 'Duration_0.3.8', 'Program_32', 'Pitch_38', 'Velocity_69', 'Duration_0.3.8', 'Program_26', 'Pitch_50', 'Velocity_59', 'Duration_0.3.8', 'Program_-1', 'PitchDrum_36', 'Velocity_60', 'Duration_1.0.8', 'Program_-1', 'PitchDrum_50', 'Velocity_55', 'Duration_0.1.8', 'Program_-1', 'PitchDrum_64', 'Velocity_70', 'Duration_0.1.8', 'Position_19', 'Program_0', 'Pitch_45', 'Velocity_54', 'Duration_0.1.8', 'Program_32', 'Pitch_45', 'Velocity_54', 'Duration_0.1.8', 'Program_26', 'Pitch_57', 'Velocity_44', 'Duration_0.1.8', 'Position_20', 'Program_0', 'Pitch_55', 'Velocity_87', 'Duration_0.3.8', 'Program_32', 'Pitch_55', 'Velocity_87', 'Duration_0.3.8', 'Program_26', 'Pitch_67', 'Velocity_77', 'Duration_0.3.8', 'Program_-1', 'PitchDrum_51', 'Velocity_120', 'Duration_0.2.8', 'Position_23', 'Program_0', 'Pitch_54', 'Velocity_69', 'Duration_0.1.8', 'Program_32', 'Pitch_54', 'Velocity_69', 'Duration_0.1.8', 'Program_26', 'Pitch_66', 'Velocity_59', 'Duration_0.1.8', 'Program_-1', 'PitchDrum_50', 'Velocity_45', 'Duration_0.1.8', 'Program_-1', 'PitchDrum_64', 'Velocity_60', 'Duration_0.1.8', 'Position_24', 'Program_-1', 'PitchDrum_36', 'Velocity_60', 'Duration_1.0.8', 'Program_-1', 'PitchDrum_50', 'Velocity_55', 'Duration_0.3.8', 'Program_-1', 'PitchDrum_64', 'Velocity_70', 'Duration_0.3.8', 'Position_27', 'Program_0', 'Pitch_50', 'Velocity_69', 'Duration_0.1.8', 'Program_32', 'Pitch_50', 'Velocity_69', 'Duration_0.1.8', 'Program_26', 'Pitch_62', 'Velocity_59', 'Duration_0.1.8', 'Position_28', 'Program_-1', 'PitchDrum_45', 'Velocity_80', 'Duration_1.0.8', 'Program_-1', 'PitchDrum_46', 'Velocity_120', 'Duration_0.2.8', 'Position_31', 'Program_0', 'Pitch_45', 'Velocity_60', 'Duration_0.1.8', 'Program_32', 'Pitch_45', 'Velocity_60', 'Duration_0.1.8', 'Program_26', 'Pitch_57', 'Velocity_50', 'Duration_0.1.8', 'Tempo_93.0', 'Bar_62', 'Position_0', 'Program_0', 'Pitch_38', 'Velocity_81', 'Duration_0.3.8', 'Program_32', 'Pitch_38', 'Velocity_81', 'Duration_0.3.8', 'Program_26', 'Pitch_50', 'Velocity_71', 'Duration_0.3.8', 'Program_-1', 'PitchDrum_36', 'Velocity_65', 'Duration_1.0.8', 'Position_3', 'Program_0', 'Pitch_45', 'Velocity_69', 'Duration_0.1.8', 'Program_32', 'Pitch_45', 'Velocity_69', 'Duration_0.1.8', 'Program_26', 'Pitch_57', 'Velocity_59', 'Duration_0.1.8', 'Position_4', 'Program_0', 'Pitch_55', 'Velocity_91', 'Duration_0.3.8', 'Program_32', 'Pitch_55', 'Velocity_91', 'Duration_0.3.8', 'Program_26', 'Pitch_67', 'Velocity_81', 'Duration_0.3.8', 'Program_-1', 'PitchDrum_51', 'Velocity_120', 'Duration_0.4.8', 'Position_7', 'Program_-1', 'PitchDrum_50', 'Velocity_45', 'Duration_0.1.8', 'Program_-1', 'PitchDrum_64', 'Velocity_60', 'Duration_0.1.8', 'Position_8', 'Program_0', 'Pitch_53', 'Velocity_84', 'Duration_0.3.8', 'Program_32', 'Pitch_53', 'Velocity_84', 'Duration_0.3.8', 'Program_26', 'Pitch_65', 'Velocity_74', 'Duration_0.3.8', 'Program_11', 'Pitch_64', 'Velocity_51', 'Duration_6.2.4', 'Program_11', 'Pitch_65', 'Velocity_51', 'Duration_6.2.4', 'Program_11', 'Pitch_69', 'Velocity_51', 'Duration_6.2.4', 'Program_-1', 'PitchDrum_36', 'Velocity_60', 'Duration_1.0.8', 'Program_-1', 'PitchDrum_50', 'Velocity_55', 'Duration_0.1.8', 'Program_-1', 'PitchDrum_64', 'Velocity_70', 'Duration_0.1.8', 'Position_12', 'Program_0', 'Pitch_50', 'Velocity_69', 'Duration_0.3.8', 'Program_32', 'Pitch_50', 'Velocity_69', 'Duration_0.3.8', 'Program_26', 'Pitch_62', 'Velocity_59', 'Duration_0.3.8', 'Program_-1', 'PitchDrum_51', 'Velocity_120', 'Duration_0.4.8', 'Position_15', 'Program_0', 'Pitch_45', 'Velocity_57', 'Duration_0.1.8', 'Program_32', 'Pitch_45', 'Velocity_57', 'Duration_0.1.8', 'Program_26', 'Pitch_57', 'Velocity_47', 'Duration_0.1.8', 'Program_-1', 'PitchDrum_50', 'Velocity_45', 'Duration_0.1.8', 'Program_-1', 'PitchDrum_64', 'Velocity_60', 'Duration_0.1.8', 'Position_16', 'Program_0', 'Pitch_38', 'Velocity_69', 'Duration_0.3.8', 'Program_32', 'Pitch_38', 'Velocity_69', 'Duration_0.3.8', 'Program_26', 'Pitch_50', 'Velocity_59', 'Duration_0.3.8', 'Program_-1', 'PitchDrum_36', 'Velocity_60', 'Duration_1.0.8', 'Program_-1', 'PitchDrum_50', 'Velocity_55', 'Duration_0.1.8', 'Program_-1', 'PitchDrum_64', 'Velocity_70', 'Duration_0.1.8', 'Position_19', 'Program_0', 'Pitch_45', 'Velocity_54', 'Duration_0.1.8', 'Program_32', 'Pitch_45', 'Velocity_54', 'Duration_0.1.8', 'Program_26', 'Pitch_57', 'Velocity_44', 'Duration_0.1.8', 'Position_20', 'Program_0', 'Pitch_55', 'Velocity_87', 'Duration_0.3.8', 'Program_32', 'Pitch_55', 'Velocity_87', 'Duration_0.3.8', 'Program_26', 'Pitch_67', 'Velocity_77', 'Duration_0.3.8', 'Program_-1', 'PitchDrum_51', 'Velocity_120', 'Duration_0.2.8', 'Position_23', 'Program_0', 'Pitch_53', 'Velocity_69', 'Duration_0.1.8', 'Program_32', 'Pitch_53', 'Velocity_69', 'Duration_0.1.8', 'Program_26', 'Pitch_65', 'Velocity_59', 'Duration_0.1.8', 'Program_-1', 'PitchDrum_50', 'Velocity_45', 'Duration_0.1.8', 'Program_-1', 'PitchDrum_64', 'Velocity_60', 'Duration_0.1.8', 'Position_24', 'Program_-1', 'PitchDrum_36', 'Velocity_60', 'Duration_1.0.8', 'Program_-1', 'PitchDrum_50', 'Velocity_55', 'Duration_0.3.8', 'Program_-1', 'PitchDrum_64', 'Velocity_70', 'Duration_0.3.8', 'Position_27', 'Program_0', 'Pitch_50', 'Velocity_69', 'Duration_0.1.8', 'Program_32', 'Pitch_50', 'Velocity_69', 'Duration_0.1.8', 'Program_26', 'Pitch_62', 'Velocity_59', 'Duration_0.1.8', 'Position_28', 'Program_-1', 'PitchDrum_45', 'Velocity_80', 'Duration_1.0.8', 'Program_-1', 'PitchDrum_46', 'Velocity_120', 'Duration_0.2.8', 'Position_31', 'Program_0', 'Pitch_45', 'Velocity_60', 'Duration_0.1.8', 'Program_32', 'Pitch_45', 'Velocity_60', 'Duration_0.1.8', 'Program_26', 'Pitch_57', 'Velocity_50', 'Duration_0.1.8', 'Tempo_93.0', 'Bar_63', 'Position_0', 'Program_0', 'Pitch_38', 'Velocity_81', 'Duration_0.3.8', 'Program_32', 'Pitch_38', 'Velocity_81', 'Duration_0.3.8', 'Program_26', 'Pitch_50', 'Velocity_71', 'Duration_0.3.8', 'Program_-1', 'PitchDrum_36', 'Velocity_65', 'Duration_1.0.8', 'Position_3', 'Program_0', 'Pitch_45', 'Velocity_69', 'Duration_0.1.8', 'Program_32', 'Pitch_45', 'Velocity_69', 'Duration_0.1.8', 'Program_26', 'Pitch_57', 'Velocity_59', 'Duration_0.1.8', 'Position_4', 'Program_0', 'Pitch_55', 'Velocity_91', 'Duration_0.3.8', 'Program_32', 'Pitch_55', 'Velocity_91', 'Duration_0.3.8', 'Program_26', 'Pitch_67', 'Velocity_81', 'Duration_0.3.8', 'Program_-1', 'PitchDrum_51', 'Velocity_120', 'Duration_0.4.8', 'Position_7', 'Program_-1', 'PitchDrum_50', 'Velocity_45', 'Duration_0.1.8', 'Program_-1', 'PitchDrum_64', 'Velocity_60', 'Duration_0.1.8', 'Position_8', 'Program_0', 'Pitch_53', 'Velocity_84', 'Duration_0.3.8', 'Program_32', 'Pitch_53', 'Velocity_84', 'Duration_0.3.8', 'Program_26', 'Pitch_65', 'Velocity_74', 'Duration_0.3.8', 'Program_-1', 'PitchDrum_36', 'Velocity_60', 'Duration_1.0.8', 'Program_-1', 'PitchDrum_50', 'Velocity_55', 'Duration_0.1.8', 'Program_-1', 'PitchDrum_64', 'Velocity_70', 'Duration_0.1.8', 'Position_12', 'Program_0', 'Pitch_50', 'Velocity_69', 'Duration_0.3.8', 'Program_32', 'Pitch_50', 'Velocity_69', 'Duration_0.3.8', 'Program_26', 'Pitch_62', 'Velocity_59', 'Duration_0.3.8', 'Program_-1', 'PitchDrum_51', 'Velocity_120', 'Duration_0.4.8', 'Position_15', 'Program_0', 'Pitch_45', 'Velocity_57', 'Duration_0.1.8', 'Program_32', 'Pitch_45', 'Velocity_57', 'Duration_0.1.8', 'Program_26', 'Pitch_57', 'Velocity_47', 'Duration_0.1.8', 'Program_-1', 'PitchDrum_50', 'Velocity_45', 'Duration_0.1.8', 'Program_-1', 'PitchDrum_64', 'Velocity_60', 'Duration_0.1.8', 'Position_16', 'Program_0', 'Pitch_38', 'Velocity_69', 'Duration_0.3.8', 'Program_32', 'Pitch_38', 'Velocity_69', 'Duration_0.3.8', 'Program_26', 'Pitch_50', 'Velocity_59', 'Duration_0.3.8', 'Program_-1', 'PitchDrum_36', 'Velocity_60', 'Duration_1.0.8', 'Program_-1', 'PitchDrum_50', 'Velocity_55', 'Duration_0.1.8', 'Program_-1', 'PitchDrum_64', 'Velocity_70', 'Duration_0.1.8', 'Position_19', 'Program_0', 'Pitch_45', 'Velocity_54', 'Duration_0.1.8', 'Program_32', 'Pitch_45', 'Velocity_54', 'Duration_0.1.8', 'Program_26', 'Pitch_57', 'Velocity_44', 'Duration_0.1.8', 'Position_20', 'Program_0', 'Pitch_55', 'Velocity_87', 'Duration_0.3.8', 'Program_32', 'Pitch_55', 'Velocity_87', 'Duration_0.3.8', 'Program_26', 'Pitch_67', 'Velocity_77', 'Duration_0.3.8', 'Program_-1', 'PitchDrum_51', 'Velocity_120', 'Duration_0.2.8', 'Position_23', 'Program_0', 'Pitch_53', 'Velocity_69', 'Duration_0.1.8', 'Program_32', 'Pitch_53', 'Velocity_69', 'Duration_0.1.8', 'Program_26', 'Pitch_65', 'Velocity_59', 'Duration_0.1.8', 'Program_-1', 'PitchDrum_50', 'Velocity_45', 'Duration_0.1.8', 'Program_-1', 'PitchDrum_64', 'Velocity_60', 'Duration_0.1.8', 'Position_24', 'Program_-1', 'PitchDrum_36', 'Velocity_60', 'Duration_1.0.8', 'Program_-1', 'PitchDrum_50', 'Velocity_55', 'Duration_0.3.8', 'Program_-1', 'PitchDrum_64', 'Velocity_70', 'Duration_0.3.8', 'Position_27', 'Program_0', 'Pitch_50', 'Velocity_69', 'Duration_0.1.8', 'Program_32', 'Pitch_50', 'Velocity_69', 'Duration_0.1.8', 'Program_26', 'Pitch_62', 'Velocity_59', 'Duration_0.1.8', 'Position_28', 'Program_-1', 'PitchDrum_45', 'Velocity_100', 'Duration_1.0.8', 'Program_-1', 'PitchDrum_46', 'Velocity_95', 'Duration_0.2.8', 'Position_31', 'Program_0', 'Pitch_45', 'Velocity_60', 'Duration_0.1.8', 'Program_32', 'Pitch_45', 'Velocity_60', 'Duration_0.1.8', 'Program_26', 'Pitch_57', 'Velocity_50', 'Duration_0.1.8', 'Tempo_93.0'] )"
   ]
  }
 ],
 "metadata": {
  "kernelspec": {
   "display_name": "base",
   "language": "python",
   "name": "python3"
  },
  "language_info": {
   "codemirror_mode": {
    "name": "ipython",
    "version": 3
   },
   "file_extension": ".py",
   "mimetype": "text/x-python",
   "name": "python",
   "nbconvert_exporter": "python",
   "pygments_lexer": "ipython3",
   "version": "3.10.13"
  }
 },
 "nbformat": 4,
 "nbformat_minor": 2
}
